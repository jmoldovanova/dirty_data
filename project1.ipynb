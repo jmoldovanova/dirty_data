{
 "cells": [
  {
   "cell_type": "code",
   "execution_count": 13,
   "metadata": {},
   "outputs": [],
   "source": [
    "import pandas as pd\n",
    "import seaborn as sns\n",
    "import matplotlib.pyplot as plt\n",
    "%matplotlib inline\n",
    "import os"
   ]
  },
  {
   "cell_type": "code",
   "execution_count": 14,
   "metadata": {},
   "outputs": [
    {
     "data": {
      "text/plain": [
       "'/home/jupyter-j-moldovanova/Lesson_4_dirty_date'"
      ]
     },
     "execution_count": 14,
     "metadata": {},
     "output_type": "execute_result"
    }
   ],
   "source": [
    "os.getcwd()"
   ]
  },
  {
   "cell_type": "code",
   "execution_count": 15,
   "metadata": {},
   "outputs": [],
   "source": [
    "# Данные имеют следующую структуру:\n",
    "\n",
    "# записываются для каждого пользователя, совершившего покупки, каждый день\n",
    "# для каждой даты есть своя папка, внутри неё – папки для каждого пользователя\n",
    "# внутри каждой папки есть файл data.csv, где и хранятся данные\n",
    "# Схематично выглядит так:\n",
    "\n",
    "# └── data\n",
    "#    ├── 2020-12-30\n",
    "#    │  ├── FirstName_LastName1\n",
    "#    │  │   └── data.csv\n",
    "#    │  ├── FirstName_LastName2\n",
    "#    │  │   └── data.csv\n",
    "#    │  └── FirstName_LastName3\n",
    "#    │      └── data.csv\n",
    "#    └── 2020-12-31\n",
    "#       ├── FirstName_LastName1\n",
    "#       │   └── data.csv\n",
    "#       └── FirstName_LastName5\n",
    "#           └── data.csv"
   ]
  },
  {
   "cell_type": "code",
   "execution_count": null,
   "metadata": {},
   "outputs": [],
   "source": []
  },
  {
   "cell_type": "code",
   "execution_count": 16,
   "metadata": {},
   "outputs": [],
   "source": [
    "# Для начала соберем все данные из папки data в один датафрэйм, имеющий следующие столбцы: \n",
    "# колонки из самих файлов (product_id, quantity), \n",
    "# колонка с именем пользователя (name)\n",
    "# и колонка с датой этих покупок (date)\n",
    "# п.с. (name) и (date) - соответствуют названию папки, где лежит папка с пользователем."
   ]
  },
  {
   "cell_type": "code",
   "execution_count": 17,
   "metadata": {},
   "outputs": [],
   "source": [
    "path = '/home/jupyter-j-moldovanova/shared/homeworks/python_ds_miniprojects/4/data'\n",
    "#записали в переменную path путь до корневой папки, где лежат все данные по пользователям"
   ]
  },
  {
   "cell_type": "code",
   "execution_count": 18,
   "metadata": {},
   "outputs": [],
   "source": [
    "all_data = pd.DataFrame()\n",
    "# создали пустой дата фрейм, куда в дальнейшем будем считывать все данные"
   ]
  },
  {
   "cell_type": "code",
   "execution_count": 19,
   "metadata": {},
   "outputs": [],
   "source": [
    "for i in os.listdir(path):    #пробегаем по каждой папке пути path\n",
    "    for j in os.listdir(path+'/'+i): #даьше спускаемся еще вниз по этому же пути\n",
    "        path_i = path+'/'+i #записали путь в новую переменную path_i\n",
    "        path_ii = path_i.split('/')  #далее перевели эту строку в список и взяли оттуда последний элемент (это будет дата)\n",
    "        for k in os.listdir(path+'/'+i+'/'+j): #спускаемся еще ниже и тоже самое проделываем для создания колонки с именем\n",
    "            path_k = path+'/'+i+'/'+j\n",
    "            path_kk = path_k.split('/')\n",
    "            data = pd.read_csv(path+'/'+i+'/'+j+'/'+k, index_col=0) #считываем все файлы csv в data\n",
    "            data['date'] = path_ii[-1] #добаляем элементы, которые брали на шаге i в созданную колонку с датой\n",
    "            data['name'] = path_kk[-1] #также заполняем колонку с именем\n",
    "            all_data = pd.concat([all_data, data]) #конкатенируем все дф между собой в один большой дата фрейм all_data  "
   ]
  },
  {
   "cell_type": "code",
   "execution_count": 20,
   "metadata": {},
   "outputs": [
    {
     "data": {
      "text/html": [
       "<div>\n",
       "<style scoped>\n",
       "    .dataframe tbody tr th:only-of-type {\n",
       "        vertical-align: middle;\n",
       "    }\n",
       "\n",
       "    .dataframe tbody tr th {\n",
       "        vertical-align: top;\n",
       "    }\n",
       "\n",
       "    .dataframe thead th {\n",
       "        text-align: right;\n",
       "    }\n",
       "</style>\n",
       "<table border=\"1\" class=\"dataframe\">\n",
       "  <thead>\n",
       "    <tr style=\"text-align: right;\">\n",
       "      <th></th>\n",
       "      <th>product_id</th>\n",
       "      <th>quantity</th>\n",
       "      <th>date</th>\n",
       "      <th>name</th>\n",
       "    </tr>\n",
       "  </thead>\n",
       "  <tbody>\n",
       "    <tr>\n",
       "      <th>0</th>\n",
       "      <td>27</td>\n",
       "      <td>4</td>\n",
       "      <td>2020-12-05</td>\n",
       "      <td>Petr_Ivanov</td>\n",
       "    </tr>\n",
       "    <tr>\n",
       "      <th>1</th>\n",
       "      <td>89</td>\n",
       "      <td>1</td>\n",
       "      <td>2020-12-05</td>\n",
       "      <td>Petr_Ivanov</td>\n",
       "    </tr>\n",
       "    <tr>\n",
       "      <th>2</th>\n",
       "      <td>33</td>\n",
       "      <td>2</td>\n",
       "      <td>2020-12-05</td>\n",
       "      <td>Petr_Ivanov</td>\n",
       "    </tr>\n",
       "    <tr>\n",
       "      <th>3</th>\n",
       "      <td>8</td>\n",
       "      <td>3</td>\n",
       "      <td>2020-12-05</td>\n",
       "      <td>Petr_Ivanov</td>\n",
       "    </tr>\n",
       "    <tr>\n",
       "      <th>4</th>\n",
       "      <td>16</td>\n",
       "      <td>1</td>\n",
       "      <td>2020-12-05</td>\n",
       "      <td>Petr_Ivanov</td>\n",
       "    </tr>\n",
       "    <tr>\n",
       "      <th>...</th>\n",
       "      <td>...</td>\n",
       "      <td>...</td>\n",
       "      <td>...</td>\n",
       "      <td>...</td>\n",
       "    </tr>\n",
       "    <tr>\n",
       "      <th>0</th>\n",
       "      <td>18</td>\n",
       "      <td>4</td>\n",
       "      <td>2020-12-07</td>\n",
       "      <td>Petr_Fedorov</td>\n",
       "    </tr>\n",
       "    <tr>\n",
       "      <th>1</th>\n",
       "      <td>94</td>\n",
       "      <td>4</td>\n",
       "      <td>2020-12-07</td>\n",
       "      <td>Petr_Fedorov</td>\n",
       "    </tr>\n",
       "    <tr>\n",
       "      <th>0</th>\n",
       "      <td>95</td>\n",
       "      <td>2</td>\n",
       "      <td>2020-12-07</td>\n",
       "      <td>Vasiliy_Ivanov</td>\n",
       "    </tr>\n",
       "    <tr>\n",
       "      <th>1</th>\n",
       "      <td>83</td>\n",
       "      <td>3</td>\n",
       "      <td>2020-12-07</td>\n",
       "      <td>Vasiliy_Ivanov</td>\n",
       "    </tr>\n",
       "    <tr>\n",
       "      <th>2</th>\n",
       "      <td>64</td>\n",
       "      <td>1</td>\n",
       "      <td>2020-12-07</td>\n",
       "      <td>Vasiliy_Ivanov</td>\n",
       "    </tr>\n",
       "  </tbody>\n",
       "</table>\n",
       "<p>161 rows × 4 columns</p>\n",
       "</div>"
      ],
      "text/plain": [
       "    product_id  quantity        date            name\n",
       "0           27         4  2020-12-05     Petr_Ivanov\n",
       "1           89         1  2020-12-05     Petr_Ivanov\n",
       "2           33         2  2020-12-05     Petr_Ivanov\n",
       "3            8         3  2020-12-05     Petr_Ivanov\n",
       "4           16         1  2020-12-05     Petr_Ivanov\n",
       "..         ...       ...         ...             ...\n",
       "0           18         4  2020-12-07    Petr_Fedorov\n",
       "1           94         4  2020-12-07    Petr_Fedorov\n",
       "0           95         2  2020-12-07  Vasiliy_Ivanov\n",
       "1           83         3  2020-12-07  Vasiliy_Ivanov\n",
       "2           64         1  2020-12-07  Vasiliy_Ivanov\n",
       "\n",
       "[161 rows x 4 columns]"
      ]
     },
     "execution_count": 20,
     "metadata": {},
     "output_type": "execute_result"
    }
   ],
   "source": [
    "all_data"
   ]
  },
  {
   "cell_type": "code",
   "execution_count": 21,
   "metadata": {},
   "outputs": [
    {
     "data": {
      "text/plain": [
       "480"
      ]
     },
     "execution_count": 21,
     "metadata": {},
     "output_type": "execute_result"
    }
   ],
   "source": [
    "all_data.quantity.sum() #посмотрим, какое суммарно кол-во товаров было куплено в эти даты"
   ]
  },
  {
   "cell_type": "code",
   "execution_count": null,
   "metadata": {},
   "outputs": [],
   "source": []
  },
  {
   "cell_type": "code",
   "execution_count": 22,
   "metadata": {},
   "outputs": [],
   "source": [
    "# Выясним, какой пользователь купил больше всего товаров. "
   ]
  },
  {
   "cell_type": "code",
   "execution_count": 24,
   "metadata": {},
   "outputs": [
    {
     "data": {
      "text/html": [
       "<div>\n",
       "<style scoped>\n",
       "    .dataframe tbody tr th:only-of-type {\n",
       "        vertical-align: middle;\n",
       "    }\n",
       "\n",
       "    .dataframe tbody tr th {\n",
       "        vertical-align: top;\n",
       "    }\n",
       "\n",
       "    .dataframe thead th {\n",
       "        text-align: right;\n",
       "    }\n",
       "</style>\n",
       "<table border=\"1\" class=\"dataframe\">\n",
       "  <thead>\n",
       "    <tr style=\"text-align: right;\">\n",
       "      <th></th>\n",
       "      <th>name</th>\n",
       "      <th>quantity</th>\n",
       "    </tr>\n",
       "  </thead>\n",
       "  <tbody>\n",
       "    <tr>\n",
       "      <th>3</th>\n",
       "      <td>Alexey_Smirnov</td>\n",
       "      <td>52</td>\n",
       "    </tr>\n",
       "    <tr>\n",
       "      <th>13</th>\n",
       "      <td>Petr_Smirnov</td>\n",
       "      <td>52</td>\n",
       "    </tr>\n",
       "    <tr>\n",
       "      <th>6</th>\n",
       "      <td>Anton_Smirnov</td>\n",
       "      <td>45</td>\n",
       "    </tr>\n",
       "    <tr>\n",
       "      <th>10</th>\n",
       "      <td>Petr_Fedorov</td>\n",
       "      <td>34</td>\n",
       "    </tr>\n",
       "    <tr>\n",
       "      <th>7</th>\n",
       "      <td>Kirill_Fedorov</td>\n",
       "      <td>28</td>\n",
       "    </tr>\n",
       "    <tr>\n",
       "      <th>16</th>\n",
       "      <td>Rostislav_Petrov</td>\n",
       "      <td>28</td>\n",
       "    </tr>\n",
       "    <tr>\n",
       "      <th>19</th>\n",
       "      <td>Vasiliy_Ivanov</td>\n",
       "      <td>27</td>\n",
       "    </tr>\n",
       "    <tr>\n",
       "      <th>0</th>\n",
       "      <td>Alexey_Fedorov</td>\n",
       "      <td>24</td>\n",
       "    </tr>\n",
       "    <tr>\n",
       "      <th>4</th>\n",
       "      <td>Anton_Ivanov</td>\n",
       "      <td>23</td>\n",
       "    </tr>\n",
       "    <tr>\n",
       "      <th>11</th>\n",
       "      <td>Petr_Ivanov</td>\n",
       "      <td>21</td>\n",
       "    </tr>\n",
       "    <tr>\n",
       "      <th>5</th>\n",
       "      <td>Anton_Petrov</td>\n",
       "      <td>18</td>\n",
       "    </tr>\n",
       "    <tr>\n",
       "      <th>9</th>\n",
       "      <td>Kirill_Smirnov</td>\n",
       "      <td>17</td>\n",
       "    </tr>\n",
       "    <tr>\n",
       "      <th>1</th>\n",
       "      <td>Alexey_Ivanov</td>\n",
       "      <td>17</td>\n",
       "    </tr>\n",
       "    <tr>\n",
       "      <th>17</th>\n",
       "      <td>Rostislav_Smirnov</td>\n",
       "      <td>17</td>\n",
       "    </tr>\n",
       "    <tr>\n",
       "      <th>14</th>\n",
       "      <td>Rostislav_Fedorov</td>\n",
       "      <td>16</td>\n",
       "    </tr>\n",
       "    <tr>\n",
       "      <th>18</th>\n",
       "      <td>Vasiliy_Fedorov</td>\n",
       "      <td>15</td>\n",
       "    </tr>\n",
       "    <tr>\n",
       "      <th>12</th>\n",
       "      <td>Petr_Petrov</td>\n",
       "      <td>14</td>\n",
       "    </tr>\n",
       "    <tr>\n",
       "      <th>8</th>\n",
       "      <td>Kirill_Petrov</td>\n",
       "      <td>9</td>\n",
       "    </tr>\n",
       "    <tr>\n",
       "      <th>15</th>\n",
       "      <td>Rostislav_Ivanov</td>\n",
       "      <td>9</td>\n",
       "    </tr>\n",
       "    <tr>\n",
       "      <th>2</th>\n",
       "      <td>Alexey_Petrov</td>\n",
       "      <td>7</td>\n",
       "    </tr>\n",
       "    <tr>\n",
       "      <th>20</th>\n",
       "      <td>Vasiliy_Petrov</td>\n",
       "      <td>7</td>\n",
       "    </tr>\n",
       "  </tbody>\n",
       "</table>\n",
       "</div>"
      ],
      "text/plain": [
       "                 name  quantity\n",
       "3      Alexey_Smirnov        52\n",
       "13       Petr_Smirnov        52\n",
       "6       Anton_Smirnov        45\n",
       "10       Petr_Fedorov        34\n",
       "7      Kirill_Fedorov        28\n",
       "16   Rostislav_Petrov        28\n",
       "19     Vasiliy_Ivanov        27\n",
       "0      Alexey_Fedorov        24\n",
       "4        Anton_Ivanov        23\n",
       "11        Petr_Ivanov        21\n",
       "5        Anton_Petrov        18\n",
       "9      Kirill_Smirnov        17\n",
       "1       Alexey_Ivanov        17\n",
       "17  Rostislav_Smirnov        17\n",
       "14  Rostislav_Fedorov        16\n",
       "18    Vasiliy_Fedorov        15\n",
       "12        Petr_Petrov        14\n",
       "8       Kirill_Petrov         9\n",
       "15   Rostislav_Ivanov         9\n",
       "2       Alexey_Petrov         7\n",
       "20     Vasiliy_Petrov         7"
      ]
     },
     "execution_count": 24,
     "metadata": {},
     "output_type": "execute_result"
    }
   ],
   "source": [
    "all_data \\\n",
    "    .groupby('name', as_index=False) \\ #группируем всех пользователей по именам\n",
    "    .agg({'quantity' : 'sum'}) \\ #для каждого пол-ля рассчитываем сколько суммарно товара он купил\n",
    "    .sort_values('quantity', ascending=False) #выводим список пользователей в порядке убывания, чтобы наверху сразу увидеть искомых пользователей"
   ]
  },
  {
   "cell_type": "code",
   "execution_count": null,
   "metadata": {},
   "outputs": [],
   "source": []
  },
  {
   "cell_type": "code",
   "execution_count": null,
   "metadata": {},
   "outputs": [],
   "source": [
    "# Найдем топ-10 товаров по числу проданных единиц за всё время и построим барплот (столбчатую диаграмму, sns.barplot), где:\n",
    "\n",
    "# по оси x – идентификаторы товаров (product_id) \n",
    "# # по оси y – суммарное число их покупок (сколько товаров с таким product_id было продано)"
   ]
  },
  {
   "cell_type": "code",
   "execution_count": 25,
   "metadata": {},
   "outputs": [],
   "source": [
    "all_data_top10_product = all_data \\\n",
    "    .groupby('product_id', as_index=False) \\ #группируем весь дф по продуктам(по их ай ди)\n",
    "    .agg({'quantity' : 'sum'}) \\ #для каждого продукта просчитываем - сколько суммарно раз он был куплен\n",
    "    .sort_values('quantity', ascending=False) \\ #сортируем список по убыванию\n",
    "    .head(10) #выводим только топ 10 покупаемых продуктов"
   ]
  },
  {
   "cell_type": "code",
   "execution_count": 27,
   "metadata": {},
   "outputs": [
    {
     "data": {
      "text/html": [
       "<div>\n",
       "<style scoped>\n",
       "    .dataframe tbody tr th:only-of-type {\n",
       "        vertical-align: middle;\n",
       "    }\n",
       "\n",
       "    .dataframe tbody tr th {\n",
       "        vertical-align: top;\n",
       "    }\n",
       "\n",
       "    .dataframe thead th {\n",
       "        text-align: right;\n",
       "    }\n",
       "</style>\n",
       "<table border=\"1\" class=\"dataframe\">\n",
       "  <thead>\n",
       "    <tr style=\"text-align: right;\">\n",
       "      <th></th>\n",
       "      <th>product_id</th>\n",
       "      <th>quantity</th>\n",
       "    </tr>\n",
       "  </thead>\n",
       "  <tbody>\n",
       "    <tr>\n",
       "      <th>22</th>\n",
       "      <td>27</td>\n",
       "      <td>20</td>\n",
       "    </tr>\n",
       "    <tr>\n",
       "      <th>42</th>\n",
       "      <td>56</td>\n",
       "      <td>18</td>\n",
       "    </tr>\n",
       "    <tr>\n",
       "      <th>21</th>\n",
       "      <td>24</td>\n",
       "      <td>15</td>\n",
       "    </tr>\n",
       "    <tr>\n",
       "      <th>51</th>\n",
       "      <td>74</td>\n",
       "      <td>15</td>\n",
       "    </tr>\n",
       "    <tr>\n",
       "      <th>32</th>\n",
       "      <td>41</td>\n",
       "      <td>14</td>\n",
       "    </tr>\n",
       "    <tr>\n",
       "      <th>27</th>\n",
       "      <td>34</td>\n",
       "      <td>13</td>\n",
       "    </tr>\n",
       "    <tr>\n",
       "      <th>66</th>\n",
       "      <td>94</td>\n",
       "      <td>13</td>\n",
       "    </tr>\n",
       "    <tr>\n",
       "      <th>46</th>\n",
       "      <td>66</td>\n",
       "      <td>13</td>\n",
       "    </tr>\n",
       "    <tr>\n",
       "      <th>65</th>\n",
       "      <td>92</td>\n",
       "      <td>12</td>\n",
       "    </tr>\n",
       "    <tr>\n",
       "      <th>38</th>\n",
       "      <td>50</td>\n",
       "      <td>12</td>\n",
       "    </tr>\n",
       "  </tbody>\n",
       "</table>\n",
       "</div>"
      ],
      "text/plain": [
       "    product_id  quantity\n",
       "22          27        20\n",
       "42          56        18\n",
       "21          24        15\n",
       "51          74        15\n",
       "32          41        14\n",
       "27          34        13\n",
       "66          94        13\n",
       "46          66        13\n",
       "65          92        12\n",
       "38          50        12"
      ]
     },
     "execution_count": 27,
     "metadata": {},
     "output_type": "execute_result"
    }
   ],
   "source": [
    "all_data_top10_product"
   ]
  },
  {
   "cell_type": "code",
   "execution_count": 31,
   "metadata": {},
   "outputs": [
    {
     "data": {
      "image/png": "[encoded data removed]",
      "text/plain": [
       "<Figure size 432x288 with 1 Axes>"
      ]
     },
     "metadata": {
      "needs_background": "light"
     },
     "output_type": "display_data"
    }
   ],
   "source": [
    "ax = sns.barplot(x='product_id', y='quantity', data=all_data_top10_product, color=\"salmon\", alpha = 0.4)\n",
    "#выводим эти же топ10 продуктов графически\n",
    "#явно видно, что самый покупаемый продукт - с ай ди 27"
   ]
  },
  {
   "cell_type": "code",
   "execution_count": null,
   "metadata": {},
   "outputs": [],
   "source": []
  },
  {
   "cell_type": "code",
   "execution_count": null,
   "metadata": {},
   "outputs": [],
   "source": [
    "# Посмотрим на продажи по дням! \n",
    "# Для визуализации снова используем барплот, только теперь по оси x будут дни, по которым у нас есть данные (date)."
   ]
  },
  {
   "cell_type": "code",
   "execution_count": 32,
   "metadata": {},
   "outputs": [],
   "source": [
    "all_data_salery_day = all_data \\\n",
    "    .groupby('date', as_index=False) \\ #группируем по датам\n",
    "    .agg({'quantity' : 'sum'}) \\ #для каждой даты подсчитываем суммарное кол-во проданных товаров\n",
    "    .sort_values('quantity', ascending=False) \\ #сортируем по убыванию"
   ]
  },
  {
   "cell_type": "code",
   "execution_count": 38,
   "metadata": {},
   "outputs": [
    {
     "data": {
      "image/png": "[encoded data removed]",
      "text/plain": [
       "<Figure size 864x576 with 1 Axes>"
      ]
     },
     "metadata": {
      "needs_background": "light"
     },
     "output_type": "display_data"
    }
   ],
   "source": [
    "plt.figure(figsize=(12, 8))\n",
    "ax1 = sns.barplot(x='date', y='quantity', data=all_data_salery_day, color=\"salmon\", order=['2020-12-03', '2020-12-04', '2020-12-05', '2020-12-06', '2020-12-07', '2020-12-08', '2020-12-09'])\n",
    "#отображаем все на графике, расставив даты в удобном для чтения графика порядке"
   ]
  },
  {
   "cell_type": "code",
   "execution_count": null,
   "metadata": {},
   "outputs": [],
   "source": []
  },
  {
   "cell_type": "code",
   "execution_count": null,
   "metadata": {},
   "outputs": [],
   "source": [
    "# Сколько пользователей приобрели какой-либо товар повторно (более 1 раза)? \n",
    "# Повтором будем считать покупку товара с одинаковым product_id, совершенную в разные дни. "
   ]
  },
  {
   "cell_type": "code",
   "execution_count": 39,
   "metadata": {},
   "outputs": [],
   "source": [
    "all_data_drop_dubl = all_data.drop_duplicates(subset=['product_id', 'name', 'date']) \n",
    "# удаляем всех пользователей, у которых в один день - куплен один и тот же продукт"
   ]
  },
  {
   "cell_type": "code",
   "execution_count": 48,
   "metadata": {},
   "outputs": [],
   "source": [
    "all_data_product_dubl =  all_data_drop_dubl \\\n",
    "    .groupby(['name', 'product_id'], as_index=False) \\ #группируем по именам -- и продуктам\n",
    "    .agg({'date' : 'count'}) \\ #считаем кол-во дней, в которые этот пользователь купил этот продукт\n",
    "    .query('date > 1') #отбираем только тех, кто купил продукт более 1 раза"
   ]
  },
  {
   "cell_type": "code",
   "execution_count": 49,
   "metadata": {},
   "outputs": [
    {
     "data": {
      "text/html": [
       "<div>\n",
       "<style scoped>\n",
       "    .dataframe tbody tr th:only-of-type {\n",
       "        vertical-align: middle;\n",
       "    }\n",
       "\n",
       "    .dataframe tbody tr th {\n",
       "        vertical-align: top;\n",
       "    }\n",
       "\n",
       "    .dataframe thead th {\n",
       "        text-align: right;\n",
       "    }\n",
       "</style>\n",
       "<table border=\"1\" class=\"dataframe\">\n",
       "  <thead>\n",
       "    <tr style=\"text-align: right;\">\n",
       "      <th></th>\n",
       "      <th>name</th>\n",
       "      <th>product_id</th>\n",
       "      <th>date</th>\n",
       "    </tr>\n",
       "  </thead>\n",
       "  <tbody>\n",
       "    <tr>\n",
       "      <th>37</th>\n",
       "      <td>Anton_Ivanov</td>\n",
       "      <td>15</td>\n",
       "      <td>2</td>\n",
       "    </tr>\n",
       "    <tr>\n",
       "      <th>92</th>\n",
       "      <td>Petr_Fedorov</td>\n",
       "      <td>94</td>\n",
       "      <td>2</td>\n",
       "    </tr>\n",
       "  </tbody>\n",
       "</table>\n",
       "</div>"
      ],
      "text/plain": [
       "            name  product_id  date\n",
       "37  Anton_Ivanov          15     2\n",
       "92  Petr_Fedorov          94     2"
      ]
     },
     "execution_count": 49,
     "metadata": {},
     "output_type": "execute_result"
    }
   ],
   "source": [
    "all_data_product_dubl"
   ]
  },
  {
   "cell_type": "code",
   "execution_count": null,
   "metadata": {},
   "outputs": [],
   "source": []
  }
 ],
 "metadata": {
  "kernelspec": {
   "display_name": "Python 3",
   "language": "python",
   "name": "python3"
  },
  "language_info": {
   "codemirror_mode": {
    "name": "ipython",
    "version": 3
   },
   "file_extension": ".py",
   "mimetype": "text/x-python",
   "name": "python",
   "nbconvert_exporter": "python",
   "pygments_lexer": "ipython3",
   "version": "3.7.3"
  }
 },
 "nbformat": 4,
 "nbformat_minor": 4
}
